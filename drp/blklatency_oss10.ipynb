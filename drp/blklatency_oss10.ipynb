{
 "cells": [
  {
   "cell_type": "markdown",
   "metadata": {},
   "source": [
    "# Block layer latencies\n",
    "Blklayer results from reading to the drp nvme-sssd. Each ssd was formatted with zfs.\n",
    "The data are collected: blktrace->blkparse->btt"
   ]
  },
  {
   "cell_type": "code",
   "execution_count": 1,
   "metadata": {},
   "outputs": [],
   "source": [
    "from os.path import join\n",
    "import pandas as pd\n",
    "import matplotlib.pyplot as plt"
   ]
  },
  {
   "cell_type": "code",
   "execution_count": 11,
   "metadata": {},
   "outputs": [],
   "source": [
    "#basepath = \"/reg/data/ana01/temp/xrd/wilko/drp\"\n",
    "basepath = \"/home/wilko/psdm/data/drp\"\n",
    "\n",
    "# latency data for driver to completion\n",
    "#dq = pd.read_csv(join(basepath, \"2018-03-08-nvme1n1_d2c_latency.csv\"), names=[\"ts\",\"lat\"])\n",
    "# latency data for queue to completion\n",
    "dq = pd.read_csv(join(basepath, \"2018-03-08-nvme1n1_q2c_latency.csv\"), names=[\"ts\",\"lat\"])\n",
    "\n",
    "dq.lat *= 1000.   #latency in ms "
   ]
  },
  {
   "cell_type": "code",
   "execution_count": 12,
   "metadata": {},
   "outputs": [
    {
     "data": {
      "image/png": "[encoded data removed]",
      "text/plain": [
       "<Figure size 1080x360 with 2 Axes>"
      ]
     },
     "metadata": {},
     "output_type": "display_data"
    }
   ],
   "source": [
    "plt.style.use('seaborn')\n",
    "fig = plt.figure(figsize=(15,5))\n",
    "fig.add_subplot(121)\n",
    "dq.lat.hist(bins=100)\n",
    "plt.xlabel(\"latency [ms]\")\n",
    "plt.ylabel(\"count\")\n",
    "plt.title(\"queue->completion latency\")\n",
    "\n",
    "# Select the three peaks and plot how the entries\n",
    "# are distributed in time (even it looks like) \n",
    "fig.add_subplot(122)\n",
    "cut = (dq.lat > 0.6) & (dq.lat < 0.7)\n",
    "cut1 = (dq.lat > 0.75) & (dq.lat < 1.0)\n",
    "cut2 = (dq.lat > 1.3) \n",
    "q = dq.loc[cut].ts\n",
    "q1 = dq.loc[cut1].ts\n",
    "q2 = dq.loc[cut2].ts\n",
    "q1.values\n",
    "plt.hist((q.values,q1.values,q2.values), stacked=True)\n",
    "plt.xlabel(\"time [s]\")\n",
    "plt.ylabel(\"count (normalized)\")\n",
    "plt.title(\"time distribution for the three peaks\")\n",
    "\n",
    "plt.tight_layout()\n",
    "plt.show()"
   ]
  },
  {
   "cell_type": "code",
   "execution_count": 4,
   "metadata": {},
   "outputs": [
    {
     "data": {
      "text/html": [
       "<div>\n",
       "<style scoped>\n",
       "    .dataframe tbody tr th:only-of-type {\n",
       "        vertical-align: middle;\n",
       "    }\n",
       "\n",
       "    .dataframe tbody tr th {\n",
       "        vertical-align: top;\n",
       "    }\n",
       "\n",
       "    .dataframe thead th {\n",
       "        text-align: right;\n",
       "    }\n",
       "</style>\n",
       "<table border=\"1\" class=\"dataframe\">\n",
       "  <thead>\n",
       "    <tr style=\"text-align: right;\">\n",
       "      <th></th>\n",
       "      <th>ts</th>\n",
       "      <th>lat</th>\n",
       "    </tr>\n",
       "  </thead>\n",
       "  <tbody>\n",
       "    <tr>\n",
       "      <th>count</th>\n",
       "      <td>97292.000000</td>\n",
       "      <td>97292.000000</td>\n",
       "    </tr>\n",
       "    <tr>\n",
       "      <th>mean</th>\n",
       "      <td>9.997936</td>\n",
       "      <td>0.861120</td>\n",
       "    </tr>\n",
       "    <tr>\n",
       "      <th>std</th>\n",
       "      <td>5.771741</td>\n",
       "      <td>0.247701</td>\n",
       "    </tr>\n",
       "    <tr>\n",
       "      <th>min</th>\n",
       "      <td>0.000000</td>\n",
       "      <td>0.103000</td>\n",
       "    </tr>\n",
       "    <tr>\n",
       "      <th>25%</th>\n",
       "      <td>5.001432</td>\n",
       "      <td>0.707000</td>\n",
       "    </tr>\n",
       "    <tr>\n",
       "      <th>50%</th>\n",
       "      <td>10.007127</td>\n",
       "      <td>0.828000</td>\n",
       "    </tr>\n",
       "    <tr>\n",
       "      <th>75%</th>\n",
       "      <td>14.993638</td>\n",
       "      <td>0.952000</td>\n",
       "    </tr>\n",
       "    <tr>\n",
       "      <th>max</th>\n",
       "      <td>19.998615</td>\n",
       "      <td>2.612000</td>\n",
       "    </tr>\n",
       "  </tbody>\n",
       "</table>\n",
       "</div>"
      ],
      "text/plain": [
       "                 ts           lat\n",
       "count  97292.000000  97292.000000\n",
       "mean       9.997936      0.861120\n",
       "std        5.771741      0.247701\n",
       "min        0.000000      0.103000\n",
       "25%        5.001432      0.707000\n",
       "50%       10.007127      0.828000\n",
       "75%       14.993638      0.952000\n",
       "max       19.998615      2.612000"
      ]
     },
     "execution_count": 4,
     "metadata": {},
     "output_type": "execute_result"
    }
   ],
   "source": [
    "dq.loc[dq.lat>0.0].describe()"
   ]
  },
  {
   "cell_type": "code",
   "execution_count": null,
   "metadata": {},
   "outputs": [],
   "source": []
  }
 ],
 "metadata": {
  "kernelspec": {
   "display_name": "Python 3",
   "language": "python",
   "name": "python3"
  },
  "language_info": {
   "codemirror_mode": {
    "name": "ipython",
    "version": 3
   },
   "file_extension": ".py",
   "mimetype": "text/x-python",
   "name": "python",
   "nbconvert_exporter": "python",
   "pygments_lexer": "ipython3",
   "version": "3.6.4"
  }
 },
 "nbformat": 4,
 "nbformat_minor": 2
}
