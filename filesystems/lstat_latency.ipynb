{
 "cells": [
  {
   "cell_type": "markdown",
   "metadata": {},
   "source": [
    "## Time spend in lstat() system call when walking ana file system\n",
    "\n",
    "Purging xtc,hdf5 files was run wit hstrace:\n",
    "\n",
    "    strace -T -tt -e lstat -O <output-file> -f ......\n",
    "    and the output contains one line for each file\n",
    "    10:34:47.721263 lstat(\"/reg/data/ana12/mec/mecls8417/xtc/e1269-r0008-s00-c00.xtc\", {st_mode=S_IFREG|0440, st_size=395284, ...}) = 0 <0.001000>    \n",
    "\n",
    "The time spend in the lstat() call is the last field (e.g.: 0.001000 secs)."
   ]
  },
  {
   "cell_type": "code",
   "execution_count": 45,
   "metadata": {},
   "outputs": [],
   "source": [
    "import os\n",
    "import sys\n",
    "import re\n",
    "import math\n",
    "import numpy as np\n",
    "import matplotlib.pyplot as plt\n",
    "\n",
    "def strace_call_time(fn, match):\n",
    "    latency = []\n",
    "    with open(fn) as fp:\n",
    "        for line in fp:\n",
    "            m = match.match(line.rstrip())\n",
    "            if m:\n",
    "                latency.append(float(m[1]))\n",
    "    return latency"
   ]
  },
  {
   "cell_type": "code",
   "execution_count": 81,
   "metadata": {},
   "outputs": [
    {
     "name": "stdout",
     "output_type": "stream",
     "text": [
      "average:  19.67ms std:  17.67ms  nenetries:   1951 fn: lstat_ana03.20200207\n",
      "average:   1.15ms std:   2.67ms  nenetries:  65191 fn: lstat_ana12.20200207\n",
      "average:   0.96ms std:   0.15ms  nenetries:  64967 fn: lstat_ana12.20200207T105800\n"
     ]
    },
    {
     "data": {
      "image/png": "[encoded data removed]",
      "text/plain": [
       "<Figure size 432x288 with 1 Axes>"
      ]
     },
     "metadata": {
      "needs_background": "light"
     },
     "output_type": "display_data"
    }
   ],
   "source": [
    "match = re.compile(\".* lstat\\(.* <([0-9].*)>$\")\n",
    "data_dir = os.path.expanduser(\"~psdatmgr/logs/fm/purge_xtc\")\n",
    "for entry in os.listdir(data_dir):\n",
    "    pfn = os.path.join(data_dir, entry)\n",
    "    if os.path.isfile(pfn):\n",
    "        lat_ms = np.array(strace_call_time(pfn,match)) * 1000\n",
    "        print(f\"average: {np.average(lat_ms):-6.2f}ms std: {np.std(lat_ms):-6.2f}ms  nenetries: {len(lat_ms):6d} fn: {entry}\")\n",
    "        plt.hist(lat_ms, bins=500, range=(0,100), log=True, density=True)\n",
    "        "
   ]
  },
  {
   "cell_type": "code",
   "execution_count": null,
   "metadata": {},
   "outputs": [],
   "source": []
  },
  {
   "cell_type": "code",
   "execution_count": null,
   "metadata": {},
   "outputs": [],
   "source": []
  }
 ],
 "metadata": {
  "kernelspec": {
   "display_name": "AA-wkana",
   "language": "python",
   "name": "ana"
  },
  "language_info": {
   "codemirror_mode": {
    "name": "ipython",
    "version": 3
   },
   "file_extension": ".py",
   "mimetype": "text/x-python",
   "name": "python",
   "nbconvert_exporter": "python",
   "pygments_lexer": "ipython3",
   "version": "3.8.1"
  }
 },
 "nbformat": 4,
 "nbformat_minor": 2
}
